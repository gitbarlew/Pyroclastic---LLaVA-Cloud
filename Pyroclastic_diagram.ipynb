{
  "nbformat": 4,
  "nbformat_minor": 0,
  "metadata": {
    "colab": {
      "provenance": [],
      "authorship_tag": "ABX9TyOda6tlUx/QWHFvHg/Pjfu2",
      "include_colab_link": true
    },
    "kernelspec": {
      "name": "python3",
      "display_name": "Python 3"
    },
    "language_info": {
      "name": "python"
    }
  },
  "cells": [
    {
      "cell_type": "markdown",
      "metadata": {
        "id": "view-in-github",
        "colab_type": "text"
      },
      "source": [
        "<a href=\"https://colab.research.google.com/github/gitbarlew/Pyroclastic---LLaVA-Cloud/blob/main/Pyroclastic_diagram.ipynb\" target=\"_parent\"><img src=\"https://colab.research.google.com/assets/colab-badge.svg\" alt=\"Open In Colab\"/></a>"
      ]
    },
    {
      "cell_type": "code",
      "source": [
        "!pip install diagrams"
      ],
      "metadata": {
        "colab": {
          "base_uri": "https://localhost:8080/"
        },
        "id": "pvKptnvzSRZC",
        "outputId": "770ccd83-c294-4569-9771-c4fd74924ec0"
      },
      "execution_count": 2,
      "outputs": [
        {
          "output_type": "stream",
          "name": "stdout",
          "text": [
            "Collecting diagrams\n",
            "  Downloading diagrams-0.23.4-py3-none-any.whl (24.6 MB)\n",
            "\u001b[2K     \u001b[90m━━━━━━━━━━━━━━━━━━━━━━━━━━━━━━━━━━━━━━━━\u001b[0m \u001b[32m24.6/24.6 MB\u001b[0m \u001b[31m38.7 MB/s\u001b[0m eta \u001b[36m0:00:00\u001b[0m\n",
            "\u001b[?25hRequirement already satisfied: graphviz<0.21.0,>=0.13.2 in /usr/local/lib/python3.10/dist-packages (from diagrams) (0.20.1)\n",
            "Requirement already satisfied: jinja2<4.0,>=2.10 in /usr/local/lib/python3.10/dist-packages (from diagrams) (3.1.3)\n",
            "Collecting typed-ast<2.0.0,>=1.5.4 (from diagrams)\n",
            "  Downloading typed_ast-1.5.5-cp310-cp310-manylinux_2_17_x86_64.manylinux2014_x86_64.whl (824 kB)\n",
            "\u001b[2K     \u001b[90m━━━━━━━━━━━━━━━━━━━━━━━━━━━━━━━━━━━━━━━━\u001b[0m \u001b[32m824.7/824.7 kB\u001b[0m \u001b[31m46.6 MB/s\u001b[0m eta \u001b[36m0:00:00\u001b[0m\n",
            "\u001b[?25hRequirement already satisfied: MarkupSafe>=2.0 in /usr/local/lib/python3.10/dist-packages (from jinja2<4.0,>=2.10->diagrams) (2.1.5)\n",
            "Installing collected packages: typed-ast, diagrams\n",
            "Successfully installed diagrams-0.23.4 typed-ast-1.5.5\n"
          ]
        }
      ]
    },
    {
      "cell_type": "code",
      "execution_count": 3,
      "metadata": {
        "id": "oe1kX04KREjY"
      },
      "outputs": [],
      "source": [
        "# Diagram script for Pyroclastic - Running LLaVA in Colab's notebook\n",
        "import os\n",
        "\n",
        "\n",
        "from diagrams import Diagram, Cluster\n",
        "from diagrams.onprem.compute import Server\n",
        "from diagrams.onprem.client import User\n",
        "from diagrams.generic.network import VPN\n",
        "from diagrams.programming.language import Python\n",
        "\n",
        "\n",
        "with Diagram(\"Pyroclastic -  LLaVA on Colab\", show=True, direction=\"RL\"):\n",
        "\n",
        "    Py_Script = Python(\"OLLAMA Python Client\\n->URL\")\n",
        "    End_User = User(\"User Image\")\n",
        "\n",
        "    Py_Script << End_User\n",
        "\n",
        "    with Cluster(\"Google Colab\"):\n",
        "        Server(\"OLLAMA\\nAPI Port: 11434\") << VPN(\"Localtunnel\\nURL<->Localhost:11434\") << Py_Script\n"
      ]
    }
  ]
}